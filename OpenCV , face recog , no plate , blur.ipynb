{
 "cells": [
  {
   "cell_type": "code",
   "execution_count": 1,
   "metadata": {},
   "outputs": [],
   "source": [
    "import numpy as np\n",
    "import pandas as pd\n",
    "import random\n",
    "import os\n",
    "import cv2\n",
    "import warnings\n",
    "warnings.filterwarnings(\"ignore\")"
   ]
  },
  {
   "cell_type": "markdown",
   "metadata": {},
   "source": [
    "### drawing images and shape using opencv\n",
    "- drawing black images\n",
    "- drawing black and white images"
   ]
  },
  {
   "cell_type": "code",
   "execution_count": 2,
   "metadata": {},
   "outputs": [],
   "source": [
    "image=np.ones((512,512,3),np.uint8)   #coloured img\n",
    "image_bw=np.zeros((512,512),np.uint8) #b/w img"
   ]
  },
  {
   "cell_type": "code",
   "execution_count": 3,
   "metadata": {},
   "outputs": [],
   "source": [
    "cv2.imshow(\"black_image\",image)\n",
    "cv2.waitKey(0)\n",
    "cv2.destroyAllWindows()"
   ]
  },
  {
   "cell_type": "code",
   "execution_count": 4,
   "metadata": {},
   "outputs": [],
   "source": [
    "image=np.ones((512,512,3),np.uint8)*255   #white colour\n",
    "image_bw=np.zeros((512,512),np.uint8)\n",
    "cv2.imshow(\"black_image\",image)\n",
    "cv2.waitKey(0)\n",
    "cv2.destroyAllWindows()"
   ]
  },
  {
   "cell_type": "markdown",
   "metadata": {},
   "source": [
    "#### draw a line\n",
    "- cv2.line(image,starting cordinate, ending cordinates,color,thickness)"
   ]
  },
  {
   "cell_type": "code",
   "execution_count": 5,
   "metadata": {},
   "outputs": [],
   "source": [
    "image=np.ones((512,512,3),np.uint8)\n",
    "cv2.line(image,(5,7),(230,230),(255,0,0),10)  #blue color line\n",
    "cv2.imshow(\"abc\",image)\n",
    "cv2.waitKey(0)\n",
    "cv2.destroyAllWindows()"
   ]
  },
  {
   "cell_type": "code",
   "execution_count": 6,
   "metadata": {},
   "outputs": [],
   "source": [
    "image=np.ones((512,512,3),np.uint8)\n",
    "cv2.line(image,(5,7),(230,230),(0,0,255),10)  #red color line\n",
    "cv2.imshow(\"abc\",image)\n",
    "cv2.waitKey(0)\n",
    "cv2.destroyAllWindows()"
   ]
  },
  {
   "cell_type": "markdown",
   "metadata": {},
   "source": [
    "#### drawing a rectangle\n",
    "- cv2.rectangle(image,starting vertex,opposite vertex,color,thickness)"
   ]
  },
  {
   "cell_type": "code",
   "execution_count": 7,
   "metadata": {},
   "outputs": [],
   "source": [
    "image=np.ones((512,512,3),np.uint8)\n",
    "cv2.rectangle(image,(5,7),(230,230),(0,255,0),10) #green color\n",
    "cv2.imshow(\"abc\",image)\n",
    "cv2.waitKey(0)\n",
    "cv2.destroyAllWindows()"
   ]
  },
  {
   "cell_type": "markdown",
   "metadata": {},
   "source": [
    "#### drawing a circle\n",
    "- cv2.circle(image,center,radius,color,fill/thickness)"
   ]
  },
  {
   "cell_type": "code",
   "execution_count": 8,
   "metadata": {},
   "outputs": [],
   "source": [
    "image=np.ones((512,512,3),np.uint8)\n",
    "cv2.circle(image,(350,350),100,(0,255,0),10)\n",
    "cv2.imshow(\"abc\",image)\n",
    "cv2.waitKey(0)\n",
    "cv2.destroyAllWindows()"
   ]
  },
  {
   "cell_type": "code",
   "execution_count": 9,
   "metadata": {},
   "outputs": [],
   "source": [
    "image=np.ones((512,512,3),np.uint8)\n",
    "cv2.circle(image,(350,350),100,(120,120,120),-1)   #-1 is for filled circle\n",
    "cv2.imshow(\"abc\",image)\n",
    "cv2.waitKey(0)\n",
    "cv2.destroyAllWindows()"
   ]
  },
  {
   "cell_type": "markdown",
   "metadata": {},
   "source": [
    "#### draw a polygon"
   ]
  },
  {
   "cell_type": "code",
   "execution_count": 10,
   "metadata": {},
   "outputs": [],
   "source": [
    "image=np.ones((512,512,3),np.uint8)\n",
    "pts=np.array([[10,50],[400,50],[90,200],[50,400]],np.int32)\n",
    "pts=pts.reshape((-1,1,2))\n",
    "cv2.polylines(image,[pts],True,(0,0,255),3)  #true is for closed polygon\n",
    "cv2.imshow(\"abc\",image)\n",
    "cv2.waitKey(0)\n",
    "cv2.destroyAllWindows()"
   ]
  },
  {
   "cell_type": "code",
   "execution_count": 11,
   "metadata": {},
   "outputs": [],
   "source": [
    "image=np.ones((512,512,3),np.uint8)\n",
    "pts=np.array([[10,50],[400,50],[90,200],[50,400]],np.int32)\n",
    "pts=pts.reshape((-1,1,2))\n",
    "cv2.polylines(image,[pts],False,(0,0,255),3)  #false is for opened polygon\n",
    "cv2.imshow(\"abc\",image)\n",
    "cv2.waitKey(0)\n",
    "cv2.destroyAllWindows()"
   ]
  },
  {
   "cell_type": "markdown",
   "metadata": {},
   "source": [
    "#### putting text inside the image\n",
    "- cv2.putText(image,\"text to display\",bottom left starting point,font,font size,color,thickness)"
   ]
  },
  {
   "cell_type": "code",
   "execution_count": 12,
   "metadata": {},
   "outputs": [],
   "source": [
    "image=np.ones((512,512,3),np.uint8)*250\n",
    "cv2.putText(image,\"MAN UNITED\",(75,290),cv2.FONT_HERSHEY_COMPLEX,2,(0,0,255),3)\n",
    "cv2.imshow(\"abc\",image)\n",
    "cv2.waitKey(0)\n",
    "cv2.destroyAllWindows()"
   ]
  },
  {
   "cell_type": "markdown",
   "metadata": {},
   "source": [
    "#### camera setup"
   ]
  },
  {
   "cell_type": "code",
   "execution_count": 13,
   "metadata": {},
   "outputs": [],
   "source": [
    "capture=cv2.VideoCapture(0)\n",
    "\n",
    "while True:\n",
    "    ret,frame=capture.read()\n",
    "    cv2.imshow(\"output\",frame)\n",
    "    \n",
    "    if cv2.waitKey(1) & 0xff==ord('q'):    #ord('q') is the range to close the loop\n",
    "        break\n",
    "        \n",
    "capture.release()\n",
    "cv2.destroyAllWindows()\n",
    "\n",
    "#coloured video capture"
   ]
  },
  {
   "cell_type": "code",
   "execution_count": 14,
   "metadata": {},
   "outputs": [],
   "source": [
    "capture=cv2.VideoCapture(0)\n",
    "\n",
    "while True:\n",
    "    ret,frame=capture.read()\n",
    "    frame=cv2.cvtColor(frame,cv2.COLOR_BGR2GRAY)\n",
    "    cv2.imshow(\"output\",frame)\n",
    "    \n",
    "    if cv2.waitKey(1) & 0xff==ord('q'):    #ord('q') is the range to close the loop\n",
    "        break\n",
    "        \n",
    "capture.release()\n",
    "cv2.destroyAllWindows()"
   ]
  },
  {
   "cell_type": "markdown",
   "metadata": {},
   "source": [
    "#### face recognition"
   ]
  },
  {
   "cell_type": "code",
   "execution_count": 16,
   "metadata": {},
   "outputs": [],
   "source": [
    "os.chdir(r'C:\\Users\\devan\\machine learning data\\haarcascade')"
   ]
  },
  {
   "cell_type": "code",
   "execution_count": 17,
   "metadata": {},
   "outputs": [],
   "source": [
    "face_cascade=cv2.CascadeClassifier(\"haarcascade_frontalface_Default.xml\")"
   ]
  },
  {
   "cell_type": "code",
   "execution_count": 18,
   "metadata": {},
   "outputs": [],
   "source": [
    "def detect_face(image):\n",
    "    \n",
    "    face_copy=image.copy()\n",
    "    \n",
    "    face_rects=face_cascade.detectMultiScale(face_copy,1.3,5)\n",
    "    \n",
    "    for (x,y,w,h) in face_rects:\n",
    "        cv2.rectangle(face_copy,(x,y),(x+w,y+h),(0,0,255),5)\n",
    "        \n",
    "    return face_copy\n",
    "\n",
    "capture=cv2.VideoCapture(0)\n",
    "\n",
    "while True:\n",
    "    ret,frame=capture.read()\n",
    "    frame=cv2.cvtColor(frame,cv2.COLOR_BGR2GRAY)\n",
    "    output=detect_face(frame)\n",
    "    cv2.imshow(\"output\",output)\n",
    "    \n",
    "    if cv2.waitKey(1) & 0xff==ord('q'):    #ord('q') is the range to close the loop\n",
    "        break\n",
    "        \n",
    "capture.release()\n",
    "cv2.destroyAllWindows()"
   ]
  },
  {
   "cell_type": "markdown",
   "metadata": {},
   "source": [
    "#### eye detection"
   ]
  },
  {
   "cell_type": "code",
   "execution_count": 19,
   "metadata": {},
   "outputs": [],
   "source": [
    "eye_cascade=cv2.CascadeClassifier(\"haarcascade_eye.xml\")\n",
    "\n",
    "def detect_eye(image):\n",
    "    eye_copy=image.copy()\n",
    "    eye_rects=eye_cascade.detectMultiScale(eye_copy,1.1,10)\n",
    "    \n",
    "    for (x,y,w,h) in eye_rects:\n",
    "        cv2.rectangle(eye_copy,(x,y),(x+w,y+h),(0,0,255),5)\n",
    "\n",
    "    return eye_copy\n",
    "\n",
    "capture=cv2.VideoCapture(0)\n",
    "\n",
    "while True:\n",
    "    ret,frame=capture.read()\n",
    "    frame=cv2.cvtColor(frame,cv2.COLOR_BGR2GRAY)    #for b/w video.. to get coloured video close this\n",
    "    output=detect_eye(frame)\n",
    "    cv2.imshow(\"output\",output)\n",
    "    if cv2.waitKey(1) & 0xff==ord('q'):\n",
    "        break\n",
    "\n",
    "capture.release()\n",
    "cv2.destroyAllWindows()"
   ]
  },
  {
   "cell_type": "markdown",
   "metadata": {},
   "source": [
    "#### smile detection"
   ]
  },
  {
   "cell_type": "code",
   "execution_count": 20,
   "metadata": {},
   "outputs": [],
   "source": [
    "smile_cascade=cv2.CascadeClassifier(\"haarcascade_smile.xml\")\n",
    "\n",
    "def detect_smile(image):\n",
    "    smile_copy=image.copy()\n",
    "    smile_rects=smile_cascade.detectMultiScale(smile_copy,1.7,22)\n",
    "    for (x,y,w,h) in smile_rects:\n",
    "        cv2.rectangle(smile_copy,(x,y),(x+w,y+h),(0,0,255),5)\n",
    "    return smile_copy\n",
    "\n",
    "capture=cv2.VideoCapture(0)\n",
    "\n",
    "while True:\n",
    "    ret,frame=capture.read()\n",
    "    #frame=cv2.cvtColor(frame,cv2.COLOR_BGR2GRAY)  \n",
    "    output=detect_smile(frame)\n",
    "    cv2.imshow(\"output\",output)\n",
    "    if cv2.waitKey(1) & 0xff==ord('q'):\n",
    "        break\n",
    "\n",
    "capture.release()\n",
    "cv2.destroyAllWindows()\n",
    "    "
   ]
  },
  {
   "cell_type": "markdown",
   "metadata": {},
   "source": [
    "#### face , smile & eye detection"
   ]
  },
  {
   "cell_type": "code",
   "execution_count": 21,
   "metadata": {},
   "outputs": [],
   "source": [
    "face_cascade=cv2.CascadeClassifier(\"haarcascade_frontalface_default.xml\")\n",
    "eye_cascade=cv2.CascadeClassifier(\"haarcascade_eye.xml\")\n",
    "smile_cascade=cv2.CascadeClassifier(\"haarcascade_smile.xml\")\n",
    "\n",
    "def detect(image):\n",
    "    face_copy=image.copy()\n",
    "    \n",
    "    face_rects=face_cascade.detectMultiScale(face_copy,1.3,5)\n",
    "    \n",
    "    for (x,y,w,h) in face_rects:\n",
    "        cv2.rectangle(face_copy,(x,y),(x+w,y+h),(0,0,255),3)\n",
    "        roi_frame=face_copy[y:y+h,x:x+w]\n",
    "        eye_rects=eye_cascade.detectMultiScale(roi_frame,1.1,10)\n",
    "\n",
    "        for (ex,ey,ew,eh) in eye_rects:\n",
    "            cv2.rectangle(roi_frame,(ex,ey),(ex+ew,ey+eh),(0,255,0),3)\n",
    "        \n",
    "        smile_rects=smile_cascade.detectMultiScale(roi_frame,1.7,22)\n",
    "        \n",
    "        for (sx,sy,sw,sh) in smile_rects:\n",
    "            cv2.rectangle(roi_frame,(sx,sy),(sx+sw,sy+sh),(255,0,0),3)\n",
    "    \n",
    "    return face_copy\n",
    "\n",
    "capture=cv2.VideoCapture(0)\n",
    "\n",
    "while True:\n",
    "    ret,frame=capture.read()\n",
    "    #frame=cv2.cvtColor(frame,cv2.COLOR_BGR2GRAY)\n",
    "    output=detect(frame)\n",
    "    cv2.imshow(\"output\",output)\n",
    "\n",
    "    if cv2.waitKey(1) & 0xff==ord('q'):\n",
    "        break\n",
    "\n",
    "capture.release()\n",
    "cv2.destroyAllWindows()"
   ]
  },
  {
   "cell_type": "markdown",
   "metadata": {},
   "source": [
    "#### number plate detection"
   ]
  },
  {
   "cell_type": "code",
   "execution_count": 22,
   "metadata": {},
   "outputs": [],
   "source": [
    "image=cv2.imread(\"image.jpg\")\n",
    "cv2.imshow(\"output\",image)\n",
    "cv2.waitKey(0)\n",
    "cv2.destroyAllWindows()"
   ]
  },
  {
   "cell_type": "code",
   "execution_count": 23,
   "metadata": {},
   "outputs": [],
   "source": [
    "def detect_plate(image):\n",
    "    \n",
    "    plate_cascade=cv2.CascadeClassifier(\"haarcascade_russian_plate_number.xml\")\n",
    "    plate_copy=image.copy()\n",
    "    \n",
    "    plate_rects=plate_cascade.detectMultiScale(plate_copy,1.1,3)\n",
    "\n",
    "    for (x,y,w,h) in plate_rects:\n",
    "        cv2.rectangle(plate_copy,(x,y),(x+w,y+h),(0,255,0),3)\n",
    "        \n",
    "    return plate_copy"
   ]
  },
  {
   "cell_type": "code",
   "execution_count": 24,
   "metadata": {},
   "outputs": [],
   "source": [
    "output=detect_plate(image)\n",
    "cv2.imshow(\"output\",output)\n",
    "cv2.waitKey(0)\n",
    "cv2.destroyAllWindows()"
   ]
  },
  {
   "cell_type": "markdown",
   "metadata": {},
   "source": [
    "#### blurring the number plate"
   ]
  },
  {
   "cell_type": "code",
   "execution_count": 25,
   "metadata": {},
   "outputs": [],
   "source": [
    "def detect_plate(image):\n",
    "    plate_cascade=cv2.CascadeClassifier(\"haarcascade_russian_plate_number.xml\")\n",
    "\n",
    "    plate_copy=image.copy()\n",
    "    plate_rects=plate_cascade.detectMultiScale(plate_copy,1.1,3)\n",
    "    \n",
    "    for (x,y,w,h) in plate_rects:\n",
    "        roi=plate_copy[y:y+h,x:x+w]\n",
    "        blurr=cv2.medianBlur(roi,101) #it should be odd and greater than one\n",
    "        plate_copy[y:y+h,x:x+w]=blurr\n",
    "        cv2.rectangle(plate_copy,(x,y),(x+w,y+h),(0,255,0),3)   #blurr effect with rectangle boundary... to remove boundary delete this line\n",
    "\n",
    "    return plate_copy"
   ]
  },
  {
   "cell_type": "code",
   "execution_count": 26,
   "metadata": {},
   "outputs": [],
   "source": [
    "output=detect_plate(image)\n",
    "cv2.imshow(\"output\",output)\n",
    "cv2.waitKey(0)\n",
    "cv2.destroyAllWindows()"
   ]
  },
  {
   "cell_type": "markdown",
   "metadata": {},
   "source": [
    "#### blurring the face "
   ]
  },
  {
   "cell_type": "code",
   "execution_count": 27,
   "metadata": {},
   "outputs": [],
   "source": [
    "face_cascade=cv2.CascadeClassifier(\"haarcascade_frontalface_default.xml\")\n",
    "\n",
    "def detect_face(image):\n",
    "    face_copy=image.copy()\n",
    "    face_rects=face_cascade.detectMultiScale(face_copy,1.3,5)\n",
    "\n",
    "    for (x,y,w,h) in face_rects:\n",
    "        roi=face_copy[y:y+h,x:x+w]\n",
    "        blurr=cv2.medianBlur(roi,101)\n",
    "        face_copy[y:y+h,x:x+w]=blurr\n",
    "\n",
    "    return face_copy\n",
    "\n",
    "capture=cv2.VideoCapture(0)\n",
    "\n",
    "while True:\n",
    "    ret,frame=capture.read()\n",
    "    frame=cv2.cvtColor(frame,cv2.COLOR_BGR2GRAY)\n",
    "    output=detect_face(frame)\n",
    "    cv2.imshow(\"output\",output)\n",
    "\n",
    "    if cv2.waitKey(1) & 0xff==ord('q'):\n",
    "        break\n",
    "\n",
    "capture.release()\n",
    "cv2.destroyAllWindows()"
   ]
  },
  {
   "cell_type": "code",
   "execution_count": null,
   "metadata": {},
   "outputs": [],
   "source": []
  }
 ],
 "metadata": {
  "kernelspec": {
   "display_name": "Python 3",
   "language": "python",
   "name": "python3"
  },
  "language_info": {
   "codemirror_mode": {
    "name": "ipython",
    "version": 3
   },
   "file_extension": ".py",
   "mimetype": "text/x-python",
   "name": "python",
   "nbconvert_exporter": "python",
   "pygments_lexer": "ipython3",
   "version": "3.7.7"
  }
 },
 "nbformat": 4,
 "nbformat_minor": 4
}
